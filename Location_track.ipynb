{
  "nbformat": 4,
  "nbformat_minor": 0,
  "metadata": {
    "colab": {
      "provenance": []
    },
    "kernelspec": {
      "name": "python3",
      "display_name": "Python 3"
    },
    "language_info": {
      "name": "python"
    }
  },
  "cells": [
    {
      "cell_type": "code",
      "source": [
        "pip install phonenumbers"
      ],
      "metadata": {
        "colab": {
          "base_uri": "https://localhost:8080/"
        },
        "id": "e4J8NWS4FSK9",
        "outputId": "ebb1adb9-8bbe-46f5-9b99-b7290935445d"
      },
      "execution_count": null,
      "outputs": [
        {
          "output_type": "stream",
          "name": "stdout",
          "text": [
            "Requirement already satisfied: phonenumbers in /usr/local/lib/python3.10/dist-packages (8.13.23)\n"
          ]
        }
      ]
    },
    {
      "cell_type": "code",
      "execution_count": null,
      "metadata": {
        "id": "uqsNIwTPE0A-"
      },
      "outputs": [],
      "source": [
        "import phonenumbers\n",
        "from phonenumbers import geocoder"
      ]
    },
    {
      "cell_type": "code",
      "source": [
        "phone_number=phonenumbers.parse(\"+12136574429\")\n",
        "phone_number1=phonenumbers.parse(\"+918059149612\")\n",
        "phone_number2=phonenumbers.parse(\"+201234567890\")\n",
        "phone_number3=phonenumbers.parse(\"+18708652184\")\n",
        "phone_number4=phonenumbers.parse(\"+1(705)970-0760\")\n",
        "phone_number5=phonenumbers.parse(\"+91(8950139014)\")\n",
        "print(\"\\nPhone Numbers Location\\n\")\n",
        "print(geocoder.description_for_number(phone_number,\"en\"));\n",
        "print(geocoder.description_for_number(phone_number1,\"en\"));\n",
        "print(geocoder.description_for_number(phone_number2,\"en\"));\n",
        "print(geocoder.description_for_number(phone_number3,\"en\"));\n",
        "print(geocoder.description_for_number(phone_number4,\"en\"));\n",
        "print(geocoder.description_for_number(phone_number5,\"en\"));"
      ],
      "metadata": {
        "colab": {
          "base_uri": "https://localhost:8080/"
        },
        "id": "x_2_X7tHFZ47",
        "outputId": "d7eb54d6-746f-4c52-ff03-211fa4e39359"
      },
      "execution_count": null,
      "outputs": [
        {
          "output_type": "stream",
          "name": "stdout",
          "text": [
            "\n",
            "Phone Numbers Location\n",
            "\n",
            "Los Angeles, CA\n",
            "Bangalore, Karnataka\n",
            "Egypt\n",
            "Arkansas\n",
            "Ontario\n",
            "India\n"
          ]
        }
      ]
    },
    {
      "cell_type": "code",
      "source": [
        "895013"
      ],
      "metadata": {
        "id": "gLoCh1tzkCSF"
      },
      "execution_count": null,
      "outputs": []
    }
  ]
}